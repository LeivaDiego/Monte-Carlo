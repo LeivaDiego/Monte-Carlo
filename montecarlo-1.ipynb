{
 "cells": [
  {
   "cell_type": "markdown",
   "metadata": {},
   "source": [
    "# Laboratorio 5: Monte Carlo\n",
    "\n",
    "**Universidad del Valle de Guatemala**  \n",
    "**Facultad de Ingeniería**  \n",
    "**Departamento de Ciencias de la Computación**  \n",
    "**Aprendizaje por Refuerzo** \n",
    "\n",
    "## Integrantes\n",
    "- Diego Leiva - 21752 \n",
    "- Pablo Orellana - 21970"
   ]
  },
  {
   "cell_type": "markdown",
   "metadata": {},
   "source": [
    "## Librerias"
   ]
  },
  {
   "cell_type": "code",
   "execution_count": 1,
   "metadata": {},
   "outputs": [],
   "source": [
    "import gymnasium as gym\n",
    "import numpy as np\n",
    "from collections import defaultdict\n",
    "import random\n",
    "import matplotlib.pyplot as plt"
   ]
  },
  {
   "cell_type": "markdown",
   "metadata": {},
   "source": [
    "## Utils"
   ]
  },
  {
   "cell_type": "code",
   "execution_count": 2,
   "metadata": {},
   "outputs": [],
   "source": [
    "def set_seed(seed):\n",
    "    \"\"\"\n",
    "    Set the random seed for reproducibility.\n",
    "\n",
    "    Args:\n",
    "        seed (int): The random seed.\n",
    "    \"\"\"\n",
    "    np.random.seed(seed)\n",
    "    random.seed(seed)"
   ]
  },
  {
   "cell_type": "markdown",
   "metadata": {},
   "source": [
    "## Control Monte Carlo"
   ]
  },
  {
   "cell_type": "code",
   "execution_count": 3,
   "metadata": {},
   "outputs": [],
   "source": [
    "def epsilon_greedy_policy(Q, state, nA, epsilon):\n",
    "    # Check if state is in Q\n",
    "    if state not in Q:\n",
    "        return np.random.choice(nA) # It is not in Q, explore the action space\n",
    "\n",
    "    q = Q[state] # Get the action-value function for the current state\n",
    "\n",
    "    # Break ties by selecting a random action among the best actions\n",
    "    best_actions = np.argwhere(q == np.max(q)).ravel()\n",
    "    best_action = np.random.choice(best_actions)\n",
    "\n",
    "    # Once we have a best action, we can use it\n",
    "    # Check if we should explore\n",
    "    if np.random.rand() < epsilon:\n",
    "        return np.random.choice(nA) # Explore the action space\n",
    "    \n",
    "    return int(best_action) # Exploit the best action"
   ]
  },
  {
   "cell_type": "code",
   "execution_count": 4,
   "metadata": {},
   "outputs": [],
   "source": [
    "def mc_control_first_visit(num_episodes=10000, \n",
    "                   gamma=1.0, \n",
    "                   epsilon_start=1.0,\n",
    "                   epsilon_end=0.05,\n",
    "                   epsilon_decay=0.7,\n",
    "                   sab=True,\n",
    "                   seed=42):\n",
    "    \"\"\"\n",
    "    Monte Carlo First Visit Control for Blackjack.\n",
    "    A method for estimating the value of each state-action pair in a reinforcement learning environment.\n",
    "\n",
    "    Args:\n",
    "        num_episodes (int): The number of episodes to run.\n",
    "        gamma (float): The discount factor.\n",
    "        epsilon_start (float): The initial exploration rate.\n",
    "        epsilon_end (float): The minimum exploration rate.\n",
    "        epsilon_decay (float): The decay rate of exploration.\n",
    "        sab (bool): Whether to use the standard action space or the simplified action space.\n",
    "        seed (int): The random seed for reproducibility.\n",
    "\n",
    "    Returns:\n",
    "        policy (dict): The learned policy.\n",
    "        Q (dict): The state-action value function.\n",
    "    \"\"\"\n",
    "\n",
    "    # Deterministic seed\n",
    "    set_seed(seed)\n",
    "    \n",
    "    # Create environment Blackjack\n",
    "    env = gym.make('Blackjack-v1', sab=sab)\n",
    "    nA = env.action_space.n # Number of actions: 0=stick, 1=hit\n",
    "\n",
    "    # Initialize Q-value function\n",
    "    Q = defaultdict(lambda: np.zeros(nA))\n",
    "    returns_sum = defaultdict(lambda: np.zeros(nA)) # Sum of returns\n",
    "    returns_count = defaultdict(lambda: np.zeros(nA, dtype=int)) # Count of returns\n",
    "\n",
    "    \n",
    "    # Policy ε-soft\n",
    "    def get_epsilon(ep):\n",
    "        # Linearly decaying epsilon\n",
    "        T = int(num_episodes * epsilon_decay)\n",
    "\n",
    "        # Check if we are still in the decay period\n",
    "        if ep < T:\n",
    "            return epsilon_start - (epsilon_start - epsilon_end) * (ep / T)\n",
    "        return epsilon_end # Otherwise, return the minimum epsilon\n",
    "    \n",
    "    # Iterate over episodes\n",
    "    for ep in range(num_episodes):\n",
    "        epsilon = get_epsilon(ep)\n",
    "\n",
    "        # Generate an episode\n",
    "        state, _ = env.reset(seed=seed+ep) # Reset the environment\n",
    "        episode = [] # Initialize episode\n",
    "        terminal = False\n",
    "        truncated = False\n",
    "\n",
    "        # Loop until terminal or truncated\n",
    "        while not (terminal or truncated):\n",
    "            action = epsilon_greedy_policy(Q, state, nA, epsilon) # Select action with ε-soft policy\n",
    "            next_state, reward, terminal, truncated, _ = env.step(action) # Take action with the environment\n",
    "            episode.append((state, action, reward)) # Store state, action, reward\n",
    "            state = next_state # Update state\n",
    "\n",
    "        # First visit MC update\n",
    "        G = 0.0 # Initialize return\n",
    "        visited = set() # Track visited state-action pairs\n",
    "        # Iterate over episode in reverse\n",
    "        for t in reversed(range(len(episode))):\n",
    "            s, a, r = episode[t] # Unpack state, action, reward\n",
    "            G = gamma  * G + r # Update return\n",
    "\n",
    "            # Check if state-action pair is visited\n",
    "            if (s, a) not in visited:  \n",
    "                visited.add((s, a)) # Mark state-action pair as visited\n",
    "                returns_count[s][a] += 1 # Increment count of returns\n",
    "                returns_sum[s][a] += G  # Increment sum of returns\n",
    "                Q[s][a] = returns_sum[s][a] / returns_count[s][a] # Update Q-value\n",
    "\n",
    "    # Final Policy definition\n",
    "    policy = {}\n",
    "    for s in Q:\n",
    "        q = Q[s] # Get the action-value function for the current state\n",
    "        best_actions = np.argwhere(q == np.max(q)).ravel() # Get the best actions\n",
    "        policy[s] = int(np.random.choice(best_actions)) # Randomly select one of the best actions\n",
    "\n",
    "    env.close() # Close the environment\n",
    "    return policy, Q\n"
   ]
  },
  {
   "cell_type": "markdown",
   "metadata": {},
   "source": [
    "## Evaluacion de Politica"
   ]
  },
  {
   "cell_type": "code",
   "execution_count": 5,
   "metadata": {},
   "outputs": [],
   "source": [
    "def evaluate_policy(policy, Q, num_episodes=10000, sab=True, seed=42):\n",
    "    # Deterministic seed\n",
    "    set_seed(seed)\n",
    "\n",
    "    # Create environment Blackjack\n",
    "    env = gym.make('Blackjack-v1', sab=sab)\n",
    "\n",
    "    nA = env.action_space.n  # Number of actions: 0=stick, 1=hit\n",
    "    rewards = []  # List to store rewards\n",
    "\n",
    "    # Iterate over episodes\n",
    "    for ep in range(num_episodes):\n",
    "        state, _ = env.reset(seed=seed+ep)  # Reset the environment\n",
    "        done = False   # Whether the episode is done\n",
    "        total_reward = 0  # Initialize total reward for the episode\n",
    "\n",
    "        # Loop until the episode is done\n",
    "        while not done:\n",
    "            # Ensure there\n",
    "            if state in policy:\n",
    "                action = policy[state]  # Get action from policy\n",
    "            elif state in Q:\n",
    "                q = Q[state]  # Get action-value function for the current state\n",
    "                best_actions = np.argwhere(q == np.max(q)).ravel()\n",
    "                action = int(np.random.choice(best_actions))  # Break ties randomly\n",
    "            else:\n",
    "                # Fallback to a default action if state is not in policy or Q\n",
    "                ps = state[0] \n",
    "                action = 0 if ps >= 20 else 1\n",
    "\n",
    "            next_state, reward, done, truncated, _ = env.step(action)  # Take action with the environment\n",
    "            total_reward += reward  # Update total reward\n",
    "            done = done or truncated  # Check if the episode is done\n",
    "            state = next_state  # Update state\n",
    "            \n",
    "        rewards.append(total_reward)  # Store total reward for the episode\n",
    "    \n",
    "    env.close()  # Close the environment\n",
    "\n",
    "    # Compute mean and standard error of rewards\n",
    "    return float(np.mean(rewards)), float(np.std(rewards)/np.sqrt(num_episodes))"
   ]
  },
  {
   "cell_type": "markdown",
   "metadata": {},
   "source": [
    "## Visualizaciones"
   ]
  },
  {
   "cell_type": "code",
   "execution_count": 6,
   "metadata": {},
   "outputs": [],
   "source": [
    "def plot_policy_heatmap(policy, Q=None, usable_ace=False, title=\"Policy\"):\n",
    "    # Define grid for heatmap\n",
    "    grid = np.zeros((10, 10), dtype=int)\n",
    "\n",
    "    # Fill grid with actions based on policy or Q-values\n",
    "    # Dealer showing Ace is represented as 1, and 10 as 10\n",
    "    # Player sum ranges from 12 to 21 (inclusive)\n",
    "    # Dealer showing ranges from Ace (1) to 10 (10)\n",
    "    for ps in range(12, 22):\n",
    "        for dc in range(1, 11):\n",
    "            s = (ps, dc, usable_ace)\n",
    "            if s in policy:\n",
    "                a = policy[s]\n",
    "            elif Q is not None and s in Q:\n",
    "                q = Q[s]\n",
    "                best = np.argwhere(q == np.max(q)).ravel()\n",
    "                a = int(np.random.choice(best))\n",
    "            else:\n",
    "                a = 0 if ps >= 20 else 1\n",
    "            grid[dc-1, ps-12] = a\n",
    "\n",
    "    # Plot heatmap\n",
    "    plt.figure(figsize=(6,5))\n",
    "    plt.imshow(grid[::-1], vmin=0, vmax=1)\n",
    "    plt.title(f\"{title}\")\n",
    "    plt.xlabel(\"Player sum (12..21)\")\n",
    "    plt.ylabel(\"Dealer showing (A..10)\")\n",
    "    plt.xticks(range(0,10), range(12,22))\n",
    "    plt.yticks(range(0,10), list(reversed([\"A\"]+list(range(2,11)))))\n",
    "    plt.colorbar(ticks=[0,1], label=\"0=Stick, 1=Hit\")\n",
    "    plt.grid(False)\n",
    "    plt.tight_layout()\n",
    "    plt.show()\n"
   ]
  },
  {
   "cell_type": "markdown",
   "metadata": {},
   "source": [
    "## Random Agent"
   ]
  },
  {
   "cell_type": "code",
   "execution_count": 7,
   "metadata": {},
   "outputs": [],
   "source": [
    "def benchmark_random(num_episodes=100000, sab=True, seed=999):\n",
    "    env = gym.make(\"Blackjack-v1\", sab=sab)\n",
    "    np.random.seed(seed); random.seed(seed)\n",
    "    rewards=[]\n",
    "    for ep in range(num_episodes):\n",
    "        s,_ = env.reset(seed=seed+ep); done=False; tot=0\n",
    "        while not done:\n",
    "            a = env.action_space.sample()\n",
    "            s,r,term,trun,_ = env.step(a)\n",
    "            tot += r; done = term or trun\n",
    "        rewards.append(tot)\n",
    "    env.close()\n",
    "    return float(np.mean(rewards)), float(np.std(rewards)/np.sqrt(num_episodes))"
   ]
  },
  {
   "cell_type": "code",
   "execution_count": 8,
   "metadata": {},
   "outputs": [],
   "source": [
    "\n",
    "def eval_details(policy, Q, num_episodes=100000, sab=True, seed=123):\n",
    "    env = gym.make(\"Blackjack-v1\", sab=sab)\n",
    "    wins=draws=loss=0\n",
    "    for ep in range(num_episodes):\n",
    "        s,_ = env.reset(seed=seed+ep); done=False; tot=0\n",
    "        while not done:\n",
    "            if s in policy: a = policy[s]\n",
    "            elif s in Q: a = int(np.argmax(Q[s]))\n",
    "            else: a = 0 if s[0] >= 20 else 1\n",
    "            s,r,term,trun,_ = env.step(a)\n",
    "            done = term or trun; tot += r\n",
    "        if tot>0: wins+=1\n",
    "        elif tot==0: draws+=1\n",
    "        else: loss+=1\n",
    "    env.close()\n",
    "    return wins/num_episodes, draws/num_episodes, loss/num_episodes"
   ]
  },
  {
   "cell_type": "markdown",
   "metadata": {},
   "source": [
    "## Ejecucion"
   ]
  },
  {
   "cell_type": "code",
   "execution_count": 9,
   "metadata": {},
   "outputs": [],
   "source": [
    "# Train agent using Monte Carlo Control First-Visit\n",
    "policy, Q = mc_control_first_visit(num_episodes=300000,epsilon_end=0.1, epsilon_decay=0.98)"
   ]
  },
  {
   "cell_type": "code",
   "execution_count": 10,
   "metadata": {},
   "outputs": [
    {
     "name": "stdout",
     "output_type": "stream",
     "text": [
      "Monte carlo Performance:\n",
      "\t- Mean reward: -0.06658\n",
      "\t- Std reward: 0.0030387285229187557\n"
     ]
    }
   ],
   "source": [
    "# Evaluate policy\n",
    "mean_reward, std_reward = evaluate_policy(policy, Q, num_episodes=100000)\n",
    "print(\"Monte carlo Performance:\")\n",
    "print(f\"\\t- Mean reward: {mean_reward}\\n\\t- Std reward: {std_reward}\")"
   ]
  },
  {
   "cell_type": "code",
   "execution_count": 11,
   "metadata": {},
   "outputs": [
    {
     "name": "stdout",
     "output_type": "stream",
     "text": [
      "Random Performance: (-0.39348, 0.0028356189617083603)\n",
      "Win/Draw/Loss: 0.431 / 0.072 / 0.497\n"
     ]
    }
   ],
   "source": [
    "print(\"Random Performance:\", benchmark_random(sab=True))\n",
    "w,d,l = eval_details(policy, Q, num_episodes=100000, sab=True)\n",
    "print(f\"Win/Draw/Loss: {w:.3f} / {d:.3f} / {l:.3f}\")"
   ]
  },
  {
   "cell_type": "code",
   "execution_count": 12,
   "metadata": {},
   "outputs": [
    {
     "data": {
      "image/png": "[encoded data removed]",
      "text/plain": [
       "<Figure size 600x500 with 2 Axes>"
      ]
     },
     "metadata": {},
     "output_type": "display_data"
    }
   ],
   "source": [
    "# Plot policy heatmap\n",
    "plot_policy_heatmap(policy, usable_ace=True,  title=\"Policy (usable ace)\")"
   ]
  },
  {
   "cell_type": "code",
   "execution_count": 13,
   "metadata": {},
   "outputs": [
    {
     "data": {
      "image/png": "[encoded data removed]",
      "text/plain": [
       "<Figure size 600x500 with 2 Axes>"
      ]
     },
     "metadata": {},
     "output_type": "display_data"
    }
   ],
   "source": [
    "plot_policy_heatmap(policy, usable_ace=False, title=\"Policy (no usable ace)\")"
   ]
  }
 ],
 "metadata": {
  "kernelspec": {
   "display_name": "MonteCarlo",
   "language": "python",
   "name": "python3"
  },
  "language_info": {
   "codemirror_mode": {
    "name": "ipython",
    "version": 3
   },
   "file_extension": ".py",
   "mimetype": "text/x-python",
   "name": "python",
   "nbconvert_exporter": "python",
   "pygments_lexer": "ipython3",
   "version": "3.12.11"
  }
 },
 "nbformat": 4,
 "nbformat_minor": 2
}
