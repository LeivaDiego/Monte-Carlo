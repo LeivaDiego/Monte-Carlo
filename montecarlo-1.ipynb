{
 "cells": [
  {
   "cell_type": "markdown",
   "metadata": {},
   "source": [
    "# Laboratorio 5: Monte Carlo\n",
    "\n",
    "**Universidad del Valle de Guatemala**  \n",
    "**Facultad de Ingeniería**  \n",
    "**Departamento de Ciencias de la Computación**  \n",
    "**Aprendizaje por Refuerzo** \n",
    "\n",
    "## Integrantes\n",
    "- Diego Leiva - 21752 \n",
    "- Pablo Orellana - 21970"
   ]
  },
  {
   "cell_type": "markdown",
   "metadata": {},
   "source": [
    "## Librerias"
   ]
  },
  {
   "cell_type": "code",
   "execution_count": 1,
   "metadata": {},
   "outputs": [],
   "source": [
    "import gymnasium as gym\n",
    "import numpy as np\n",
    "from collections import defaultdict\n",
    "import random\n",
    "import matplotlib.pyplot as plt"
   ]
  },
  {
   "cell_type": "markdown",
   "metadata": {},
   "source": [
    "## Utils"
   ]
  },
  {
   "cell_type": "code",
   "execution_count": 2,
   "metadata": {},
   "outputs": [],
   "source": [
    "def set_seed(seed):\n",
    "    \"\"\"\n",
    "    Set the random seed for reproducibility.\n",
    "\n",
    "    Args:\n",
    "        seed (int): The random seed.\n",
    "    \"\"\"\n",
    "    np.random.seed(seed)\n",
    "    random.seed(seed)"
   ]
  },
  {
   "cell_type": "markdown",
   "metadata": {},
   "source": [
    "## Control Monte Carlo"
   ]
  },
  {
   "cell_type": "code",
   "execution_count": 3,
   "metadata": {},
   "outputs": [],
   "source": [
    "def epsilon_greedy_policy(Q, state, nA, epsilon):\n",
    "    \"\"\"\n",
    "    Epsilon-greedy policy for action selection.\n",
    "\n",
    "    Args:\n",
    "        Q (dict): The state-action value function.\n",
    "        state: The current state.\n",
    "        nA (int): The number of actions.\n",
    "        epsilon (float): The exploration rate.\n",
    "\n",
    "    Returns:\n",
    "        int: The selected action.\n",
    "    \"\"\"\n",
    "    if np.random.rand() < epsilon:\n",
    "        return np.random.choice(nA)\n",
    "    else:\n",
    "        return np.argmax(Q[state])"
   ]
  },
  {
   "cell_type": "code",
   "execution_count": 4,
   "metadata": {},
   "outputs": [],
   "source": [
    "def mc_control_first_visit(num_episodes=10000, \n",
    "                   gamma=1.0, \n",
    "                   epsilon_start=1.0,\n",
    "                   epsilon_end=0.05,\n",
    "                   epsilon_decay=0.7,\n",
    "                   sab=True,\n",
    "                   seed=42):\n",
    "    \"\"\"\n",
    "    Monte Carlo First Visit Control for Blackjack.\n",
    "    A method for estimating the value of each state-action pair in a reinforcement learning environment.\n",
    "\n",
    "    Args:\n",
    "        num_episodes (int): The number of episodes to run.\n",
    "        gamma (float): The discount factor.\n",
    "        epsilon_start (float): The initial exploration rate.\n",
    "        epsilon_end (float): The minimum exploration rate.\n",
    "        epsilon_decay (float): The decay rate of exploration.\n",
    "        sab (bool): Whether to use the standard action space or the simplified action space.\n",
    "        seed (int): The random seed for reproducibility.\n",
    "\n",
    "    Returns:\n",
    "        policy (dict): The learned policy.\n",
    "        Q (dict): The state-action value function.\n",
    "    \"\"\"\n",
    "\n",
    "    # Deterministic seed\n",
    "    set_seed(seed)\n",
    "    \n",
    "    # Create environment Blackjack\n",
    "    env = gym.make('Blackjack-v1', sab=sab)\n",
    "    nA = env.action_space.n # Number of actions: 0=stick, 1=hit\n",
    "\n",
    "    # Initialize Q-value function\n",
    "    Q = defaultdict(lambda: np.zeros(nA))\n",
    "    returns_sum = defaultdict(lambda: np.zeros(nA)) # Sum of returns\n",
    "    returns_count = defaultdict(lambda: np.zeros(nA, dtype=int)) # Count of returns\n",
    "\n",
    "    \n",
    "    # Policy ε-soft\n",
    "    def get_epsilon(ep):\n",
    "        # Linearly decaying epsilon\n",
    "        T = int(num_episodes * epsilon_decay)\n",
    "\n",
    "        # Check if we are still in the decay period\n",
    "        if ep < T:\n",
    "            return epsilon_start - (epsilon_start - epsilon_end) * (ep / T)\n",
    "        return epsilon_end # Otherwise, return the minimum epsilon\n",
    "    \n",
    "    # Iterate over episodes\n",
    "    for ep in range(num_episodes):\n",
    "        epsilon = get_epsilon(ep)\n",
    "\n",
    "        # Generate an episode\n",
    "        state, _ = env.reset(seed=seed+ep) # Reset the environment\n",
    "        episode = [] # Initialize episode\n",
    "        terminal = False\n",
    "        truncated = False\n",
    "\n",
    "        # Loop until terminal or truncated\n",
    "        while not (terminal or truncated):\n",
    "            action = epsilon_greedy_policy(Q, state, nA, epsilon) # Select action with ε-soft policy\n",
    "            next_state, reward, terminal, truncated, _ = env.step(action) # Take action with the environment\n",
    "            episode.append((state, action, reward)) # Store state, action, reward\n",
    "            state = next_state # Update state\n",
    "\n",
    "        # First visit MC update\n",
    "        G = 0.0 # Initialize return\n",
    "        visited = set() # Track visited state-action pairs\n",
    "        # Iterate over episode in reverse\n",
    "        for t in reversed(range(len(episode))):\n",
    "            s, a, r = episode[t] # Unpack state, action, reward\n",
    "            G = gamma  * G + r # Update return\n",
    "\n",
    "            # Check if state-action pair is visited\n",
    "            if (s, a) not in visited:  \n",
    "                visited.add((s, a)) # Mark state-action pair as visited\n",
    "                returns_count[s][a] += 1 # Increment count of returns\n",
    "                returns_sum[s][a] += G  # Increment sum of returns\n",
    "                Q[s][a] = returns_sum[s][a] / returns_count[s][a] # Update Q-value\n",
    "\n",
    "    # Final Policy definition\n",
    "    policy = {s: int(np.argmax(Q[s])) for s in Q} # Greedy policy based on Q-values\n",
    "    env.close() # Close the environment\n",
    "    return policy, Q\n"
   ]
  },
  {
   "cell_type": "markdown",
   "metadata": {},
   "source": [
    "## Evaluacion de Politica"
   ]
  },
  {
   "cell_type": "code",
   "execution_count": 5,
   "metadata": {},
   "outputs": [],
   "source": [
    "def evaluate_policy(policy, num_episodes=10000, sab=True, seed=42):\n",
    "    # Deterministic seed\n",
    "    set_seed(seed)\n",
    "\n",
    "    # Create environment Blackjack\n",
    "    env = gym.make('Blackjack-v1', sab=sab)\n",
    "\n",
    "    rewards = []  # List to store rewards\n",
    "\n",
    "    # Iterate over episodes\n",
    "    for ep in range(num_episodes):\n",
    "        state, _ = env.reset(seed=seed+ep)  # Reset the environment\n",
    "        done = False   # Whether the episode is done\n",
    "        total_reward = 0  # Initialize total reward for the episode\n",
    "\n",
    "        # Loop until the episode is done\n",
    "        while not done:\n",
    "            action = policy.get(state, 0)  # Get action from policy\n",
    "            next_state, reward, done, truncated, _ = env.step(action)  # Take action with the environment\n",
    "            total_reward += reward  # Update total reward\n",
    "            done = done or truncated  # Check if the episode is done\n",
    "\n",
    "        rewards.append(total_reward)  # Store total reward for the episode\n",
    "\n",
    "    env.close()  # Close the environment\n",
    "\n",
    "    # Compute mean and standard error of rewards\n",
    "    return float(np.mean(rewards)), float(np.std(rewards)/np.sqrt(num_episodes))"
   ]
  },
  {
   "cell_type": "markdown",
   "metadata": {},
   "source": [
    "## Visualizaciones"
   ]
  },
  {
   "cell_type": "code",
   "execution_count": 6,
   "metadata": {},
   "outputs": [],
   "source": [
    "def plot_policy_heatmap(policy, usable_ace=False, title=\"Policy\"):\n",
    "\n",
    "    # Define grid for heatmap\n",
    "    grid = np.zeros((10, 10), dtype=int)\n",
    "\n",
    "    # Iterate over all possible player sums and dealer cards\n",
    "    for ps in range(12, 22):\n",
    "        for dc in range(1, 11):\n",
    "            grid[dc-1, ps-12] = policy.get((ps, dc, usable_ace), 1) # 0=Stick, 1=Hit\n",
    "\n",
    "    # Plot heatmap\n",
    "    plt.figure(figsize=(6,5))\n",
    "    plt.imshow(grid[::-1], vmin=0, vmax=1)\n",
    "    plt.title(f\"{title} | usable_ace={usable_ace}\")\n",
    "    plt.xlabel(\"Player sum (12..21)\")\n",
    "    plt.ylabel(\"Dealer showing (A..10)\")\n",
    "    plt.xticks(range(0,10), range(12,22))\n",
    "    plt.yticks(range(0,10), list(reversed([\"A\"]+list(range(2,11)))))\n",
    "    plt.colorbar(ticks=[0,1], label=\"0=Stick, 1=Hit\")\n",
    "    plt.grid(False)\n",
    "    plt.tight_layout()\n",
    "    plt.show()"
   ]
  },
  {
   "cell_type": "markdown",
   "metadata": {},
   "source": [
    "## Ejecucion"
   ]
  },
  {
   "cell_type": "code",
   "execution_count": 7,
   "metadata": {},
   "outputs": [],
   "source": [
    "# Train agent using Monte Carlo Control First-Visit\n",
    "policy, Q = mc_control_first_visit(num_episodes=300000)"
   ]
  },
  {
   "cell_type": "code",
   "execution_count": 8,
   "metadata": {},
   "outputs": [
    {
     "name": "stdout",
     "output_type": "stream",
     "text": [
      "Performance:\n",
      "\t- Mean reward: -0.36863\n",
      "\t- Std reward: 0.002858009662509908\n"
     ]
    }
   ],
   "source": [
    "# Evaluate policy\n",
    "mean_reward, std_reward = evaluate_policy(policy, num_episodes=100000)\n",
    "print(\"Performance:\")\n",
    "print(f\"\\t- Mean reward: {mean_reward}\\n\\t- Std reward: {std_reward}\")"
   ]
  },
  {
   "cell_type": "code",
   "execution_count": 9,
   "metadata": {},
   "outputs": [
    {
     "data": {
      "image/png": "[encoded data removed]",
      "text/plain": [
       "<Figure size 600x500 with 2 Axes>"
      ]
     },
     "metadata": {},
     "output_type": "display_data"
    }
   ],
   "source": [
    "# Plot policy heatmap\n",
    "plot_policy_heatmap(policy, usable_ace=True,  title=\"Policy (usable ace)\")"
   ]
  },
  {
   "cell_type": "code",
   "execution_count": 10,
   "metadata": {},
   "outputs": [
    {
     "data": {
      "image/png": "[encoded data removed]",
      "text/plain": [
       "<Figure size 600x500 with 2 Axes>"
      ]
     },
     "metadata": {},
     "output_type": "display_data"
    }
   ],
   "source": [
    "plot_policy_heatmap(policy, usable_ace=False, title=\"Policy (no usable ace)\")"
   ]
  }
 ],
 "metadata": {
  "kernelspec": {
   "display_name": "MonteCarlo",
   "language": "python",
   "name": "python3"
  },
  "language_info": {
   "codemirror_mode": {
    "name": "ipython",
    "version": 3
   },
   "file_extension": ".py",
   "mimetype": "text/x-python",
   "name": "python",
   "nbconvert_exporter": "python",
   "pygments_lexer": "ipython3",
   "version": "3.12.11"
  }
 },
 "nbformat": 4,
 "nbformat_minor": 2
}
